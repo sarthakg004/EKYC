{
 "cells": [
  {
   "cell_type": "markdown",
   "metadata": {},
   "source": [
    "**`Dlib`**: Dlib is a C++ library with Python bindings, known for its excellent face detection and shape prediction capabilities. It also includes a pre-trained face recognition model.\n",
    "\n",
    "**`Face_recognition`**: This Python library is built on top of dlib and provides a simple API for face recognition tasks. It offers both face detection and recognition functionalities."
   ]
  },
  {
   "cell_type": "code",
   "execution_count": null,
   "metadata": {},
   "outputs": [],
   "source": [
    "import face_recognition\n",
    "\n",
    "face1 = face_recognition.load_image_file(\"data\\\\01_raw_data\\\\extracted_face.jpg\")\n",
    "face1 = cv2.cvtColor(face1, cv2.COLOR_BGR2RGB)\n",
    "\n",
    "face2 = face_recognition.load_image_file(\"data\\\\01_raw_data\\\\extracted_face.jpg\")\n",
    "face2 = cv2.cvtColor(face2, cv2.COLOR_BGR2RGB)\n",
    "\n",
    "face3 = face_recognition.load_image_file(\"data\\\\01_raw_data\\\\bibek_face.jpg\")\n",
    "face3 = cv2.cvtColor(face3, cv2.COLOR_BGR2RGB)\n",
    "\n",
    "#--Converting image into encodings\n",
    "face_encode1 = face_recognition.face_encodings(face1)[0]\n",
    "face_encode2 = face_recognition.face_encodings(face2)[0]\n",
    "face_encode3 = face_recognition.face_encodings(face3)[0]\n"
   ]
  },
  {
   "cell_type": "code",
   "execution_count": null,
   "metadata": {},
   "outputs": [],
   "source": [
    "print(face_recognition.compare_faces([face_encode1],face_encode2)[0])\n",
    "print(face_recognition.compare_faces([face_encode3],face_encode2)[0])"
   ]
  }
 ],
 "metadata": {
  "language_info": {
   "name": "python"
  },
  "orig_nbformat": 4
 },
 "nbformat": 4,
 "nbformat_minor": 2
}
